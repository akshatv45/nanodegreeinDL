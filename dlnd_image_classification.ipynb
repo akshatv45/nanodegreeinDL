{
 "cells": [
  {
   "cell_type": "markdown",
   "metadata": {
    "collapsed": true
   },
   "source": [
    "# Image Classification\n",
    "In this project, you'll classify images from the [CIFAR-10 dataset](https://www.cs.toronto.edu/~kriz/cifar.html).  The dataset consists of airplanes, dogs, cats, and other objects. You'll preprocess the images, then train a convolutional neural network on all the samples. The images need to be normalized and the labels need to be one-hot encoded.  You'll get to apply what you learned and build a convolutional, max pooling, dropout, and fully connected layers.  At the end, you'll get to see your neural network's predictions on the sample images.\n",
    "## Get the Data\n",
    "Run the following cell to download the [CIFAR-10 dataset for python](https://www.cs.toronto.edu/~kriz/cifar-10-python.tar.gz)."
   ]
  },
  {
   "cell_type": "code",
   "execution_count": 1,
   "metadata": {
    "collapsed": false
   },
   "outputs": [
    {
     "name": "stdout",
     "output_type": "stream",
     "text": [
      "All files found!\n"
     ]
    }
   ],
   "source": [
    "\"\"\"\n",
    "DON'T MODIFY ANYTHING IN THIS CELL THAT IS BELOW THIS LINE\n",
    "\"\"\"\n",
    "from urllib.request import urlretrieve\n",
    "from os.path import isfile, isdir\n",
    "from tqdm import tqdm\n",
    "import problem_unittests as tests\n",
    "import tarfile\n",
    "\n",
    "cifar10_dataset_folder_path = 'cifar-10-batches-py'\n",
    "\n",
    "class DLProgress(tqdm):\n",
    "    last_block = 0\n",
    "\n",
    "    def hook(self, block_num=1, block_size=1, total_size=None):\n",
    "        self.total = total_size\n",
    "        self.update((block_num - self.last_block) * block_size)\n",
    "        self.last_block = block_num\n",
    "\n",
    "if not isfile('cifar-10-python.tar.gz'):\n",
    "    with DLProgress(unit='B', unit_scale=True, miniters=1, desc='CIFAR-10 Dataset') as pbar:\n",
    "        urlretrieve(\n",
    "            'https://www.cs.toronto.edu/~kriz/cifar-10-python.tar.gz',\n",
    "            'cifar-10-python.tar.gz',\n",
    "            pbar.hook)\n",
    "\n",
    "if not isdir(cifar10_dataset_folder_path):\n",
    "    with tarfile.open('cifar-10-python.tar.gz') as tar:\n",
    "        tar.extractall()\n",
    "        tar.close()\n",
    "\n",
    "\n",
    "tests.test_folder_path(cifar10_dataset_folder_path)"
   ]
  },
  {
   "cell_type": "markdown",
   "metadata": {},
   "source": [
    "## Explore the Data\n",
    "The dataset is broken into batches to prevent your machine from running out of memory.  The CIFAR-10 dataset consists of 5 batches, named `data_batch_1`, `data_batch_2`, etc.. Each batch contains the labels and images that are one of the following:\n",
    "* airplane\n",
    "* automobile\n",
    "* bird\n",
    "* cat\n",
    "* deer\n",
    "* dog\n",
    "* frog\n",
    "* horse\n",
    "* ship\n",
    "* truck\n",
    "\n",
    "Understanding a dataset is part of making predictions on the data.  Play around with the code cell below by changing the `batch_id` and `sample_id`. The `batch_id` is the id for a batch (1-5). The `sample_id` is the id for a image and label pair in the batch.\n",
    "\n",
    "Ask yourself \"What are all possible labels?\", \"What is the range of values for the image data?\", \"Are the labels in order or random?\".  Answers to questions like these will help you preprocess the data and end up with better predictions."
   ]
  },
  {
   "cell_type": "code",
   "execution_count": 2,
   "metadata": {
    "collapsed": false
   },
   "outputs": [
    {
     "name": "stdout",
     "output_type": "stream",
     "text": [
      "\n",
      "Stats of batch 1:\n",
      "Samples: 10000\n",
      "Label Counts: {0: 1005, 1: 974, 2: 1032, 3: 1016, 4: 999, 5: 937, 6: 1030, 7: 1001, 8: 1025, 9: 981}\n",
      "First 20 Labels: [6, 9, 9, 4, 1, 1, 2, 7, 8, 3, 4, 7, 7, 2, 9, 9, 9, 3, 2, 6]\n",
      "\n",
      "Example of Image 5:\n",
      "Image - Min Value: 0 Max Value: 252\n",
      "Image - Shape: (32, 32, 3)\n",
      "Label - Label Id: 1 Name: automobile\n"
     ]
    },
    {
     "data": {
      "image/png": "[encoded data removed]",
      "text/plain": [
       "<matplotlib.figure.Figure at 0x247bc77fbe0>"
      ]
     },
     "metadata": {
      "image/png": {
       "height": 250,
       "width": 253
      }
     },
     "output_type": "display_data"
    }
   ],
   "source": [
    "%matplotlib inline\n",
    "%config InlineBackend.figure_format = 'retina'\n",
    "\n",
    "import helper\n",
    "import numpy as np\n",
    "\n",
    "# Explore the dataset\n",
    "batch_id = 1\n",
    "sample_id = 5\n",
    "helper.display_stats(cifar10_dataset_folder_path, batch_id, sample_id)"
   ]
  },
  {
   "cell_type": "code",
   "execution_count": 3,
   "metadata": {
    "collapsed": false
   },
   "outputs": [
    {
     "name": "stdout",
     "output_type": "stream",
     "text": [
      "\n",
      "Stats of batch 2:\n",
      "Samples: 10000\n",
      "Label Counts: {0: 984, 1: 1007, 2: 1010, 3: 995, 4: 1010, 5: 988, 6: 1008, 7: 1026, 8: 987, 9: 985}\n",
      "First 20 Labels: [1, 6, 6, 8, 8, 3, 4, 6, 0, 6, 0, 3, 6, 6, 5, 4, 8, 3, 2, 6]\n",
      "\n",
      "Example of Image 50:\n",
      "Image - Min Value: 23 Max Value: 244\n",
      "Image - Shape: (32, 32, 3)\n",
      "Label - Label Id: 0 Name: airplane\n"
     ]
    },
    {
     "data": {
      "image/png": "[encoded data removed]",
      "text/plain": [
       "<matplotlib.figure.Figure at 0x247bc775b00>"
      ]
     },
     "metadata": {
      "image/png": {
       "height": 250,
       "width": 253
      }
     },
     "output_type": "display_data"
    }
   ],
   "source": [
    "batch_id = 2\n",
    "sample_id = 50\n",
    "helper.display_stats(cifar10_dataset_folder_path, batch_id, sample_id)"
   ]
  },
  {
   "cell_type": "code",
   "execution_count": 4,
   "metadata": {
    "collapsed": false
   },
   "outputs": [
    {
     "name": "stdout",
     "output_type": "stream",
     "text": [
      "\n",
      "Stats of batch 3:\n",
      "Samples: 10000\n",
      "Label Counts: {0: 994, 1: 1042, 2: 965, 3: 997, 4: 990, 5: 1029, 6: 978, 7: 1015, 8: 961, 9: 1029}\n",
      "First 20 Labels: [8, 5, 0, 6, 9, 2, 8, 3, 6, 2, 7, 4, 6, 9, 0, 0, 7, 3, 7, 2]\n",
      "\n",
      "Example of Image 15:\n",
      "Image - Min Value: 59 Max Value: 210\n",
      "Image - Shape: (32, 32, 3)\n",
      "Label - Label Id: 0 Name: airplane\n"
     ]
    },
    {
     "data": {
      "image/png": "[encoded data removed]",
      "text/plain": [
       "<matplotlib.figure.Figure at 0x247b81452b0>"
      ]
     },
     "metadata": {
      "image/png": {
       "height": 250,
       "width": 253
      }
     },
     "output_type": "display_data"
    }
   ],
   "source": [
    "batch_id = 3\n",
    "sample_id = 15\n",
    "helper.display_stats(cifar10_dataset_folder_path, batch_id, sample_id)"
   ]
  },
  {
   "cell_type": "markdown",
   "metadata": {},
   "source": [
    "## Implement Preprocess Functions\n",
    "### Normalize\n",
    "In the cell below, implement the `normalize` function to take in image data, `x`, and return it as a normalized Numpy array. The values should be in the range of 0 to 1, inclusive.  The return object should be the same shape as `x`."
   ]
  },
  {
   "cell_type": "code",
   "execution_count": 5,
   "metadata": {
    "collapsed": false
   },
   "outputs": [
    {
     "name": "stdout",
     "output_type": "stream",
     "text": [
      "Tests Passed\n"
     ]
    }
   ],
   "source": [
    "def normalize(x):\n",
    "    \"\"\"\n",
    "    Normalize a list of sample image data in the range of 0 to 1\n",
    "    : x: List of image data.  The image shape is (32, 32, 3)\n",
    "    : return: Numpy array of normalize data\n",
    "    \"\"\"\n",
    "    # TODO: Implement Function\n",
    "    a = 0\n",
    "    b = 1\n",
    "    return a + (((x - np.min(x))*(b - a))/(np.max(x) - np.min(x)))\n",
    "\n",
    "\"\"\"\n",
    "DON'T MODIFY ANYTHING IN THIS CELL THAT IS BELOW THIS LINE\n",
    "\"\"\"\n",
    "tests.test_normalize(normalize)"
   ]
  },
  {
   "cell_type": "markdown",
   "metadata": {},
   "source": [
    "### One-hot encode\n",
    "Just like the previous code cell, you'll be implementing a function for preprocessing.  This time, you'll implement the `one_hot_encode` function. The input, `x`, are a list of labels.  Implement the function to return the list of labels as One-Hot encoded Numpy array.  The possible values for labels are 0 to 9. The one-hot encoding function should return the same encoding for each value between each call to `one_hot_encode`.  Make sure to save the map of encodings outside the function.\n",
    "\n",
    "Hint: Don't reinvent the wheel."
   ]
  },
  {
   "cell_type": "code",
   "execution_count": 6,
   "metadata": {
    "collapsed": false
   },
   "outputs": [
    {
     "name": "stdout",
     "output_type": "stream",
     "text": [
      "Tests Passed\n"
     ]
    }
   ],
   "source": [
    "def one_hot_encode(x):\n",
    "    \"\"\"\n",
    "    One hot encode a list of sample labels. Return a one-hot encoded vector for each label.\n",
    "    : x: List of sample Labels\n",
    "    : return: Numpy array of one-hot encoded labels\n",
    "    \"\"\"\n",
    "    # TODO: Implement Function\n",
    "    #print(x)\n",
    "    return np.eye(10)[x]\n",
    "\n",
    "\n",
    "\"\"\"\n",
    "DON'T MODIFY ANYTHING IN THIS CELL THAT IS BELOW THIS LINE\n",
    "\"\"\"\n",
    "tests.test_one_hot_encode(one_hot_encode)"
   ]
  },
  {
   "cell_type": "code",
   "execution_count": 7,
   "metadata": {
    "collapsed": false
   },
   "outputs": [],
   "source": [
    "#one_hot_encode([0, 1, 2, 3, 4, 5, 6, 7, 8, 9])"
   ]
  },
  {
   "cell_type": "markdown",
   "metadata": {},
   "source": [
    "### Randomize Data\n",
    "As you saw from exploring the data above, the order of the samples are randomized.  It doesn't hurt to randomize it again, but you don't need to for this dataset."
   ]
  },
  {
   "cell_type": "markdown",
   "metadata": {},
   "source": [
    "## Preprocess all the data and save it\n",
    "Running the code cell below will preprocess all the CIFAR-10 data and save it to file. The code below also uses 10% of the training data for validation."
   ]
  },
  {
   "cell_type": "code",
   "execution_count": 8,
   "metadata": {
    "collapsed": false
   },
   "outputs": [],
   "source": [
    "\"\"\"\n",
    "DON'T MODIFY ANYTHING IN THIS CELL\n",
    "\"\"\"\n",
    "# Preprocess Training, Validation, and Testing Data\n",
    "helper.preprocess_and_save_data(cifar10_dataset_folder_path, normalize, one_hot_encode)"
   ]
  },
  {
   "cell_type": "markdown",
   "metadata": {},
   "source": [
    "# Check Point\n",
    "This is your first checkpoint.  If you ever decide to come back to this notebook or have to restart the notebook, you can start from here.  The preprocessed data has been saved to disk."
   ]
  },
  {
   "cell_type": "code",
   "execution_count": 9,
   "metadata": {
    "collapsed": true
   },
   "outputs": [],
   "source": [
    "\"\"\"\n",
    "DON'T MODIFY ANYTHING IN THIS CELL\n",
    "\"\"\"\n",
    "import pickle\n",
    "import problem_unittests as tests\n",
    "import helper\n",
    "\n",
    "# Load the Preprocessed Validation data\n",
    "valid_features, valid_labels = pickle.load(open('preprocess_validation.p', mode='rb'))"
   ]
  },
  {
   "cell_type": "markdown",
   "metadata": {},
   "source": [
    "## Build the network\n",
    "For the neural network, you'll build each layer into a function.  Most of the code you've seen has been outside of functions. To test your code more thoroughly, we require that you put each layer in a function.  This allows us to give you better feedback and test for simple mistakes using our unittests before you submit your project.\n",
    "\n",
    ">**Note:** If you're finding it hard to dedicate enough time for this course each week, we've provided a small shortcut to this part of the project. In the next couple of problems, you'll have the option to use classes from the [TensorFlow Layers](https://www.tensorflow.org/api_docs/python/tf/layers) or [TensorFlow Layers (contrib)](https://www.tensorflow.org/api_guides/python/contrib.layers) packages to build each layer, except the layers you build in the \"Convolutional and Max Pooling Layer\" section.  TF Layers is similar to Keras's and TFLearn's abstraction to layers, so it's easy to pickup.\n",
    "\n",
    ">However, if you would like to get the most out of this course, try to solve all the problems _without_ using anything from the TF Layers packages. You **can** still use classes from other packages that happen to have the same name as ones you find in TF Layers! For example, instead of using the TF Layers version of the `conv2d` class, [tf.layers.conv2d](https://www.tensorflow.org/api_docs/python/tf/layers/conv2d), you would want to use the TF Neural Network version of `conv2d`, [tf.nn.conv2d](https://www.tensorflow.org/api_docs/python/tf/nn/conv2d). \n",
    "\n",
    "Let's begin!\n",
    "\n",
    "### Input\n",
    "The neural network needs to read the image data, one-hot encoded labels, and dropout keep probability. Implement the following functions\n",
    "* Implement `neural_net_image_input`\n",
    " * Return a [TF Placeholder](https://www.tensorflow.org/api_docs/python/tf/placeholder)\n",
    " * Set the shape using `image_shape` with batch size set to `None`.\n",
    " * Name the TensorFlow placeholder \"x\" using the TensorFlow `name` parameter in the [TF Placeholder](https://www.tensorflow.org/api_docs/python/tf/placeholder).\n",
    "* Implement `neural_net_label_input`\n",
    " * Return a [TF Placeholder](https://www.tensorflow.org/api_docs/python/tf/placeholder)\n",
    " * Set the shape using `n_classes` with batch size set to `None`.\n",
    " * Name the TensorFlow placeholder \"y\" using the TensorFlow `name` parameter in the [TF Placeholder](https://www.tensorflow.org/api_docs/python/tf/placeholder).\n",
    "* Implement `neural_net_keep_prob_input`\n",
    " * Return a [TF Placeholder](https://www.tensorflow.org/api_docs/python/tf/placeholder) for dropout keep probability.\n",
    " * Name the TensorFlow placeholder \"keep_prob\" using the TensorFlow `name` parameter in the [TF Placeholder](https://www.tensorflow.org/api_docs/python/tf/placeholder).\n",
    "\n",
    "These names will be used at the end of the project to load your saved model.\n",
    "\n",
    "Note: `None` for shapes in TensorFlow allow for a dynamic size."
   ]
  },
  {
   "cell_type": "code",
   "execution_count": 10,
   "metadata": {
    "collapsed": false
   },
   "outputs": [
    {
     "name": "stdout",
     "output_type": "stream",
     "text": [
      "Image Input Tests Passed.\n",
      "Label Input Tests Passed.\n",
      "Keep Prob Tests Passed.\n"
     ]
    }
   ],
   "source": [
    "import tensorflow as tf\n",
    "\n",
    "def neural_net_image_input(image_shape):\n",
    "    \"\"\"\n",
    "    Return a Tensor for a bach of image input\n",
    "    : image_shape: Shape of the images\n",
    "    : return: Tensor for image input.\n",
    "    \"\"\"\n",
    "    # TODO: Implement Function\n",
    "    return tf.placeholder(tf.float32, [None, *image_shape], name='x')\n",
    "\n",
    "\n",
    "def neural_net_label_input(n_classes):\n",
    "    \"\"\"\n",
    "    Return a Tensor for a batch of label input\n",
    "    : n_classes: Number of classes\n",
    "    : return: Tensor for label input.\n",
    "    \"\"\"\n",
    "    # TODO: Implement Function\n",
    "    return tf.placeholder(tf.float32, [None, n_classes], name='y')\n",
    "\n",
    "\n",
    "def neural_net_keep_prob_input():\n",
    "    \"\"\"\n",
    "    Return a Tensor for keep probability\n",
    "    : return: Tensor for keep probability.\n",
    "    \"\"\"\n",
    "    # TODO: Implement Function\n",
    "    return tf.placeholder(tf.float32, name='keep_prob')\n",
    "\n",
    "\n",
    "\"\"\"\n",
    "DON'T MODIFY ANYTHING IN THIS CELL THAT IS BELOW THIS LINE\n",
    "\"\"\"\n",
    "tf.reset_default_graph()\n",
    "tests.test_nn_image_inputs(neural_net_image_input)\n",
    "tests.test_nn_label_inputs(neural_net_label_input)\n",
    "tests.test_nn_keep_prob_inputs(neural_net_keep_prob_input)"
   ]
  },
  {
   "cell_type": "markdown",
   "metadata": {},
   "source": [
    "### Convolution and Max Pooling Layer\n",
    "Convolution layers have a lot of success with images. For this code cell, you should implement the function `conv2d_maxpool` to apply convolution then max pooling:\n",
    "* Create the weight and bias using `conv_ksize`, `conv_num_outputs` and the shape of `x_tensor`.\n",
    "* Apply a convolution to `x_tensor` using weight and `conv_strides`.\n",
    " * We recommend you use same padding, but you're welcome to use any padding.\n",
    "* Add bias\n",
    "* Add a nonlinear activation to the convolution.\n",
    "* Apply Max Pooling using `pool_ksize` and `pool_strides`.\n",
    " * We recommend you use same padding, but you're welcome to use any padding.\n",
    "\n",
    "**Note:** You **can't** use [TensorFlow Layers](https://www.tensorflow.org/api_docs/python/tf/layers) or [TensorFlow Layers (contrib)](https://www.tensorflow.org/api_guides/python/contrib.layers) for **this** layer, but you can still use TensorFlow's [Neural Network](https://www.tensorflow.org/api_docs/python/tf/nn) package. You may still use the shortcut option for all the **other** layers."
   ]
  },
  {
   "cell_type": "code",
   "execution_count": 11,
   "metadata": {
    "collapsed": false
   },
   "outputs": [
    {
     "name": "stdout",
     "output_type": "stream",
     "text": [
      "Tests Passed\n"
     ]
    }
   ],
   "source": [
    "def conv2d_maxpool(x_tensor, conv_num_outputs, conv_ksize, conv_strides, pool_ksize, pool_strides):\n",
    "    \"\"\"\n",
    "    Apply convolution then max pooling to x_tensor\n",
    "    :param x_tensor: TensorFlow Tensor\n",
    "    :param conv_num_outputs: Number of outputs for the convolutional layer\n",
    "    :param conv_ksize: kernal size 2-D Tuple for the convolutional layer\n",
    "    :param conv_strides: Stride 2-D Tuple for convolution\n",
    "    :param pool_ksize: kernal size 2-D Tuple for pool\n",
    "    :param pool_strides: Stride 2-D Tuple for pool\n",
    "    : return: A tensor that represents convolution and max pooling of x_tensor\n",
    "    \"\"\"\n",
    "    # TODO: Implement Function\n",
    "    wshape = [*conv_ksize, int(x_tensor.shape[3]), conv_num_outputs]\n",
    "    w = tf.Variable(tf.random_normal(wshape, stddev=0.01))\n",
    "    b = tf.Variable(tf.zeros(conv_num_outputs))\n",
    "    \n",
    "    x = tf.nn.conv2d(x_tensor, w, strides=[1, *conv_strides, 1], padding='SAME')\n",
    "    x = tf.nn.bias_add(x, b)\n",
    "    x = tf.nn.relu(x)\n",
    "    \n",
    "    pool_ksize = [1, *pool_ksize, 1]\n",
    "    pool_strides = [1, *pool_strides, 1]\n",
    "    x = tf.nn.max_pool(x, pool_ksize, pool_strides, padding='SAME')\n",
    "    return x\n",
    "\n",
    "\n",
    "\"\"\"\n",
    "DON'T MODIFY ANYTHING IN THIS CELL THAT IS BELOW THIS LINE\n",
    "\"\"\"\n",
    "tests.test_con_pool(conv2d_maxpool)"
   ]
  },
  {
   "cell_type": "markdown",
   "metadata": {},
   "source": [
    "### Flatten Layer\n",
    "Implement the `flatten` function to change the dimension of `x_tensor` from a 4-D tensor to a 2-D tensor.  The output should be the shape (*Batch Size*, *Flattened Image Size*). Shortcut option: you can use classes from the [TensorFlow Layers](https://www.tensorflow.org/api_docs/python/tf/layers) or [TensorFlow Layers (contrib)](https://www.tensorflow.org/api_guides/python/contrib.layers) packages for this layer. For more of a challenge, only use other TensorFlow packages."
   ]
  },
  {
   "cell_type": "code",
   "execution_count": 12,
   "metadata": {
    "collapsed": false
   },
   "outputs": [
    {
     "name": "stdout",
     "output_type": "stream",
     "text": [
      "Tests Passed\n"
     ]
    }
   ],
   "source": [
    "def flatten(x_tensor):\n",
    "    \"\"\"\n",
    "    Flatten x_tensor to (Batch Size, Flattened Image Size)\n",
    "    : x_tensor: A tensor of size (Batch Size, ...), where ... are the image dimensions.\n",
    "    : return: A tensor of size (Batch Size, Flattened Image Size).\n",
    "    \"\"\"\n",
    "    # TODO: Implement Function\n",
    "    batchsize, *imgsize = x_tensor.get_shape().as_list()\n",
    "    imgsize = imgsize[0] * imgsize[1] * imgsize[2]\n",
    "    return tf.reshape(x_tensor, [-1, imgsize])\n",
    "\n",
    "\n",
    "\"\"\"\n",
    "DON'T MODIFY ANYTHING IN THIS CELL THAT IS BELOW THIS LINE\n",
    "\"\"\"\n",
    "tests.test_flatten(flatten)"
   ]
  },
  {
   "cell_type": "markdown",
   "metadata": {},
   "source": [
    "### Fully-Connected Layer\n",
    "Implement the `fully_conn` function to apply a fully connected layer to `x_tensor` with the shape (*Batch Size*, *num_outputs*). Shortcut option: you can use classes from the [TensorFlow Layers](https://www.tensorflow.org/api_docs/python/tf/layers) or [TensorFlow Layers (contrib)](https://www.tensorflow.org/api_guides/python/contrib.layers) packages for this layer. For more of a challenge, only use other TensorFlow packages."
   ]
  },
  {
   "cell_type": "code",
   "execution_count": 13,
   "metadata": {
    "collapsed": false
   },
   "outputs": [
    {
     "name": "stdout",
     "output_type": "stream",
     "text": [
      "Tests Passed\n"
     ]
    }
   ],
   "source": [
    "def fully_conn(x_tensor, num_outputs):\n",
    "    \"\"\"\n",
    "    Apply a fully connected layer to x_tensor using weight and bias\n",
    "    : x_tensor: A 2-D tensor where the first dimension is batch size.\n",
    "    : num_outputs: The number of output that the new tensor should be.\n",
    "    : return: A 2-D tensor where the second dimension is num_outputs.\n",
    "    \"\"\"\n",
    "    # TODO: Implement Function\n",
    "    wshape = (int(x_tensor.get_shape().as_list()[1]), num_outputs)\n",
    "    w = tf.Variable(tf.random_normal(wshape, stddev=0.1))\n",
    "    b = tf.Variable(tf.zeros(num_outputs))\n",
    "    \n",
    "    return tf.nn.relu(tf.add(tf.matmul(x_tensor, w), b))\n",
    "\n",
    "\n",
    "\"\"\"\n",
    "DON'T MODIFY ANYTHING IN THIS CELL THAT IS BELOW THIS LINE\n",
    "\"\"\"\n",
    "tests.test_fully_conn(fully_conn)"
   ]
  },
  {
   "cell_type": "markdown",
   "metadata": {},
   "source": [
    "### Output Layer\n",
    "Implement the `output` function to apply a fully connected layer to `x_tensor` with the shape (*Batch Size*, *num_outputs*). Shortcut option: you can use classes from the [TensorFlow Layers](https://www.tensorflow.org/api_docs/python/tf/layers) or [TensorFlow Layers (contrib)](https://www.tensorflow.org/api_guides/python/contrib.layers) packages for this layer. For more of a challenge, only use other TensorFlow packages.\n",
    "\n",
    "**Note:** Activation, softmax, or cross entropy should **not** be applied to this."
   ]
  },
  {
   "cell_type": "code",
   "execution_count": 14,
   "metadata": {
    "collapsed": false
   },
   "outputs": [
    {
     "name": "stdout",
     "output_type": "stream",
     "text": [
      "Tests Passed\n"
     ]
    }
   ],
   "source": [
    "def output(x_tensor, num_outputs):\n",
    "    \"\"\"\n",
    "    Apply a output layer to x_tensor using weight and bias\n",
    "    : x_tensor: A 2-D tensor where the first dimension is batch size.\n",
    "    : num_outputs: The number of output that the new tensor should be.\n",
    "    : return: A 2-D tensor where the second dimension is num_outputs.\n",
    "    \"\"\"\n",
    "    # TODO: Implement Function\n",
    "    wshape = [int(x_tensor.get_shape().as_list()[1]), num_outputs]\n",
    "    w = tf.Variable(tf.random_normal(wshape, stddev=0.1))\n",
    "    b = tf.Variable(tf.zeros(num_outputs))\n",
    "    \n",
    "    return tf.add(tf.matmul(x_tensor, w), b)\n",
    "\n",
    "\n",
    "\"\"\"\n",
    "DON'T MODIFY ANYTHING IN THIS CELL THAT IS BELOW THIS LINE\n",
    "\"\"\"\n",
    "tests.test_output(output)"
   ]
  },
  {
   "cell_type": "markdown",
   "metadata": {},
   "source": [
    "### Create Convolutional Model\n",
    "Implement the function `conv_net` to create a convolutional neural network model. The function takes in a batch of images, `x`, and outputs logits.  Use the layers you created above to create this model:\n",
    "\n",
    "* Apply 1, 2, or 3 Convolution and Max Pool layers\n",
    "* Apply a Flatten Layer\n",
    "* Apply 1, 2, or 3 Fully Connected Layers\n",
    "* Apply an Output Layer\n",
    "* Return the output\n",
    "* Apply [TensorFlow's Dropout](https://www.tensorflow.org/api_docs/python/tf/nn/dropout) to one or more layers in the model using `keep_prob`. "
   ]
  },
  {
   "cell_type": "code",
   "execution_count": 15,
   "metadata": {
    "collapsed": false
   },
   "outputs": [
    {
     "name": "stdout",
     "output_type": "stream",
     "text": [
      "Neural Network Built!\n"
     ]
    }
   ],
   "source": [
    "def conv_net(x, keep_prob):\n",
    "    \"\"\"\n",
    "    Create a convolutional neural network model\n",
    "    : x: Placeholder tensor that holds image data.\n",
    "    : keep_prob: Placeholder tensor that hold dropout keep probability.\n",
    "    : return: Tensor that represents logits\n",
    "    \"\"\"\n",
    "    # TODO: Apply 1, 2, or 3 Convolution and Max Pool layers\n",
    "    #    Play around with different number of outputs, kernel size and stride\n",
    "    # Function Definition from Above:\n",
    "    #    conv2d_maxpool(x_tensor, conv_num_outputs, conv_ksize, conv_strides, pool_ksize, pool_strides)\n",
    "    cnn1 = conv2d_maxpool(x, 32, (3, 3), (1, 1), (2, 2), (2, 2))\n",
    "    cnn2 = conv2d_maxpool(cnn1, 32, (3, 3), (2, 2), (2, 2), (2, 2))\n",
    "    cnn3 = conv2d_maxpool(cnn2, 64, (3, 3), (1, 1), (2, 2), (2, 2))\n",
    "\n",
    "    # TODO: Apply a Flatten Layer\n",
    "    # Function Definition from Above:\n",
    "    #   flatten(x_tensor)\n",
    "    flat = flatten(cnn3)\n",
    "\n",
    "    # TODO: Apply 1, 2, or 3 Fully Connected Layers\n",
    "    #    Play around with different number of outputs\n",
    "    # Function Definition from Above:\n",
    "    #   fully_conn(x_tensor, num_outputs)\n",
    "    fc1 = tf.nn.dropout(fully_conn(flat, 512), keep_prob)\n",
    "    fc2 = tf.nn.dropout(fully_conn(fc1, 128), keep_prob)    \n",
    "    \n",
    "    # TODO: Apply an Output Layer\n",
    "    #    Set this to the number of classes\n",
    "    # Function Definition from Above:\n",
    "    #   output(x_tensor, num_outputs)\n",
    "    out = output(fc2, 10)\n",
    "   \n",
    "    # TODO: return output\n",
    "    return out\n",
    "\n",
    "\n",
    "\"\"\"\n",
    "DON'T MODIFY ANYTHING IN THIS CELL THAT IS BELOW THIS LINE\n",
    "\"\"\"\n",
    "\n",
    "##############################\n",
    "## Build the Neural Network ##\n",
    "##############################\n",
    "\n",
    "# Remove previous weights, bias, inputs, etc..\n",
    "tf.reset_default_graph()\n",
    "\n",
    "# Inputs\n",
    "x = neural_net_image_input((32, 32, 3))\n",
    "y = neural_net_label_input(10)\n",
    "keep_prob = neural_net_keep_prob_input()\n",
    "\n",
    "# Model\n",
    "logits = conv_net(x, keep_prob)\n",
    "\n",
    "# Name logits Tensor, so that is can be loaded from disk after training\n",
    "logits = tf.identity(logits, name='logits')\n",
    "\n",
    "# Loss and Optimizer\n",
    "cost = tf.reduce_mean(tf.nn.softmax_cross_entropy_with_logits(logits=logits, labels=y))\n",
    "optimizer = tf.train.AdamOptimizer().minimize(cost)\n",
    "\n",
    "# Accuracy\n",
    "correct_pred = tf.equal(tf.argmax(logits, 1), tf.argmax(y, 1))\n",
    "accuracy = tf.reduce_mean(tf.cast(correct_pred, tf.float32), name='accuracy')\n",
    "\n",
    "tests.test_conv_net(conv_net)"
   ]
  },
  {
   "cell_type": "markdown",
   "metadata": {},
   "source": [
    "## Train the Neural Network\n",
    "### Single Optimization\n",
    "Implement the function `train_neural_network` to do a single optimization.  The optimization should use `optimizer` to optimize in `session` with a `feed_dict` of the following:\n",
    "* `x` for image input\n",
    "* `y` for labels\n",
    "* `keep_prob` for keep probability for dropout\n",
    "\n",
    "This function will be called for each batch, so `tf.global_variables_initializer()` has already been called.\n",
    "\n",
    "Note: Nothing needs to be returned. This function is only optimizing the neural network."
   ]
  },
  {
   "cell_type": "code",
   "execution_count": 16,
   "metadata": {
    "collapsed": false
   },
   "outputs": [
    {
     "name": "stdout",
     "output_type": "stream",
     "text": [
      "Tests Passed\n"
     ]
    }
   ],
   "source": [
    "def train_neural_network(session, optimizer, keep_probability, feature_batch, label_batch):\n",
    "    \"\"\"\n",
    "    Optimize the session on a batch of images and labels\n",
    "    : session: Current TensorFlow session\n",
    "    : optimizer: TensorFlow optimizer function\n",
    "    : keep_probability: keep probability\n",
    "    : feature_batch: Batch of Numpy image data\n",
    "    : label_batch: Batch of Numpy label data\n",
    "    \"\"\"\n",
    "    # TODO: Implement Function\n",
    "    session.run(optimizer, feed_dict={x: feature_batch, y: label_batch, keep_prob: keep_probability})\n",
    "\n",
    "\"\"\"\n",
    "DON'T MODIFY ANYTHING IN THIS CELL THAT IS BELOW THIS LINE\n",
    "\"\"\"\n",
    "tests.test_train_nn(train_neural_network)"
   ]
  },
  {
   "cell_type": "markdown",
   "metadata": {},
   "source": [
    "### Show Stats\n",
    "Implement the function `print_stats` to print loss and validation accuracy.  Use the global variables `valid_features` and `valid_labels` to calculate validation accuracy.  Use a keep probability of `1.0` to calculate the loss and validation accuracy."
   ]
  },
  {
   "cell_type": "code",
   "execution_count": 17,
   "metadata": {
    "collapsed": false
   },
   "outputs": [],
   "source": [
    "def print_stats(session, feature_batch, label_batch, cost, accuracy):\n",
    "    \"\"\"\n",
    "    Print information about loss and validation accuracy\n",
    "    : session: Current TensorFlow session\n",
    "    : feature_batch: Batch of Numpy image data\n",
    "    : label_batch: Batch of Numpy label data\n",
    "    : cost: TensorFlow cost function\n",
    "    : accuracy: TensorFlow accuracy function\n",
    "    \"\"\"\n",
    "    # TODO: Implement Function\n",
    "    loss = session.run(cost, feed_dict={x: feature_batch, y: label_batch, keep_prob: 1.0})\n",
    "    valid_accuracy = session.run(accuracy, feed_dict={x: valid_features, y: valid_labels, keep_prob: 1.0})\n",
    "    print('Loss: {:>10.4f} Validation Accuracy: {:.6f}'.format(loss, valid_accuracy))"
   ]
  },
  {
   "cell_type": "markdown",
   "metadata": {},
   "source": [
    "### Hyperparameters\n",
    "Tune the following parameters:\n",
    "* Set `epochs` to the number of iterations until the network stops learning or start overfitting\n",
    "* Set `batch_size` to the highest number that your machine has memory for.  Most people set them to common sizes of memory:\n",
    " * 64\n",
    " * 128\n",
    " * 256\n",
    " * ...\n",
    "* Set `keep_probability` to the probability of keeping a node using dropout"
   ]
  },
  {
   "cell_type": "code",
   "execution_count": 20,
   "metadata": {
    "collapsed": true
   },
   "outputs": [],
   "source": [
    "# TODO: Tune Parameters\n",
    "epochs = 45\n",
    "batch_size = 64\n",
    "keep_probability = 0.5"
   ]
  },
  {
   "cell_type": "markdown",
   "metadata": {},
   "source": [
    "### Train on a Single CIFAR-10 Batch\n",
    "Instead of training the neural network on all the CIFAR-10 batches of data, let's use a single batch. This should save time while you iterate on the model to get a better accuracy.  Once the final validation accuracy is 50% or greater, run the model on all the data in the next section."
   ]
  },
  {
   "cell_type": "code",
   "execution_count": 21,
   "metadata": {
    "collapsed": false
   },
   "outputs": [
    {
     "name": "stdout",
     "output_type": "stream",
     "text": [
      "Checking the Training on a Single Batch...\n",
      "Epoch  1, CIFAR-10 Batch 1:  Loss:     2.2189 Validation Accuracy: 0.228200\n",
      "Epoch  2, CIFAR-10 Batch 1:  Loss:     2.1319 Validation Accuracy: 0.262400\n",
      "Epoch  3, CIFAR-10 Batch 1:  Loss:     2.0158 Validation Accuracy: 0.288800\n",
      "Epoch  4, CIFAR-10 Batch 1:  Loss:     1.9863 Validation Accuracy: 0.326800\n",
      "Epoch  5, CIFAR-10 Batch 1:  Loss:     1.8444 Validation Accuracy: 0.384200\n",
      "Epoch  6, CIFAR-10 Batch 1:  Loss:     1.7910 Validation Accuracy: 0.412800\n",
      "Epoch  7, CIFAR-10 Batch 1:  Loss:     1.6333 Validation Accuracy: 0.437400\n",
      "Epoch  8, CIFAR-10 Batch 1:  Loss:     1.6052 Validation Accuracy: 0.444800\n",
      "Epoch  9, CIFAR-10 Batch 1:  Loss:     1.6043 Validation Accuracy: 0.440600\n",
      "Epoch 10, CIFAR-10 Batch 1:  Loss:     1.4934 Validation Accuracy: 0.472800\n",
      "Epoch 11, CIFAR-10 Batch 1:  Loss:     1.5020 Validation Accuracy: 0.480800\n",
      "Epoch 12, CIFAR-10 Batch 1:  Loss:     1.4336 Validation Accuracy: 0.483400\n",
      "Epoch 13, CIFAR-10 Batch 1:  Loss:     1.4372 Validation Accuracy: 0.472000\n",
      "Epoch 14, CIFAR-10 Batch 1:  Loss:     1.2944 Validation Accuracy: 0.513600\n",
      "Epoch 15, CIFAR-10 Batch 1:  Loss:     1.2870 Validation Accuracy: 0.511600\n",
      "Epoch 16, CIFAR-10 Batch 1:  Loss:     1.2761 Validation Accuracy: 0.513800\n",
      "Epoch 17, CIFAR-10 Batch 1:  Loss:     1.2532 Validation Accuracy: 0.517200\n",
      "Epoch 18, CIFAR-10 Batch 1:  Loss:     1.2802 Validation Accuracy: 0.519400\n",
      "Epoch 19, CIFAR-10 Batch 1:  Loss:     1.2192 Validation Accuracy: 0.521800\n",
      "Epoch 20, CIFAR-10 Batch 1:  Loss:     1.2019 Validation Accuracy: 0.532800\n",
      "Epoch 21, CIFAR-10 Batch 1:  Loss:     1.1763 Validation Accuracy: 0.530400\n",
      "Epoch 22, CIFAR-10 Batch 1:  Loss:     1.1325 Validation Accuracy: 0.543600\n",
      "Epoch 23, CIFAR-10 Batch 1:  Loss:     1.0965 Validation Accuracy: 0.547000\n",
      "Epoch 24, CIFAR-10 Batch 1:  Loss:     1.0815 Validation Accuracy: 0.544200\n",
      "Epoch 25, CIFAR-10 Batch 1:  Loss:     1.0947 Validation Accuracy: 0.534600\n",
      "Epoch 26, CIFAR-10 Batch 1:  Loss:     1.0832 Validation Accuracy: 0.534400\n",
      "Epoch 27, CIFAR-10 Batch 1:  Loss:     1.1091 Validation Accuracy: 0.533400\n",
      "Epoch 28, CIFAR-10 Batch 1:  Loss:     1.0177 Validation Accuracy: 0.534200\n",
      "Epoch 29, CIFAR-10 Batch 1:  Loss:     1.0606 Validation Accuracy: 0.538400\n",
      "Epoch 30, CIFAR-10 Batch 1:  Loss:     0.9615 Validation Accuracy: 0.537800\n",
      "Epoch 31, CIFAR-10 Batch 1:  Loss:     0.9745 Validation Accuracy: 0.552600\n",
      "Epoch 32, CIFAR-10 Batch 1:  Loss:     0.9361 Validation Accuracy: 0.557200\n",
      "Epoch 33, CIFAR-10 Batch 1:  Loss:     1.0149 Validation Accuracy: 0.554200\n",
      "Epoch 34, CIFAR-10 Batch 1:  Loss:     0.8954 Validation Accuracy: 0.553400\n",
      "Epoch 35, CIFAR-10 Batch 1:  Loss:     0.9504 Validation Accuracy: 0.557800\n",
      "Epoch 36, CIFAR-10 Batch 1:  Loss:     0.8538 Validation Accuracy: 0.554200\n",
      "Epoch 37, CIFAR-10 Batch 1:  Loss:     0.8413 Validation Accuracy: 0.558200\n",
      "Epoch 38, CIFAR-10 Batch 1:  Loss:     0.8333 Validation Accuracy: 0.552600\n",
      "Epoch 39, CIFAR-10 Batch 1:  Loss:     0.7773 Validation Accuracy: 0.561400\n",
      "Epoch 40, CIFAR-10 Batch 1:  Loss:     0.7679 Validation Accuracy: 0.552600\n",
      "Epoch 41, CIFAR-10 Batch 1:  Loss:     0.8582 Validation Accuracy: 0.544400\n",
      "Epoch 42, CIFAR-10 Batch 1:  Loss:     0.7163 Validation Accuracy: 0.560200\n",
      "Epoch 43, CIFAR-10 Batch 1:  Loss:     0.7043 Validation Accuracy: 0.559600\n",
      "Epoch 44, CIFAR-10 Batch 1:  Loss:     0.7033 Validation Accuracy: 0.558800\n",
      "Epoch 45, CIFAR-10 Batch 1:  Loss:     0.6634 Validation Accuracy: 0.556000\n"
     ]
    }
   ],
   "source": [
    "\"\"\"\n",
    "DON'T MODIFY ANYTHING IN THIS CELL\n",
    "\"\"\"\n",
    "print('Checking the Training on a Single Batch...')\n",
    "with tf.Session() as sess:\n",
    "    # Initializing the variables\n",
    "    sess.run(tf.global_variables_initializer())\n",
    "    \n",
    "    # Training cycle\n",
    "    for epoch in range(epochs):\n",
    "        batch_i = 1\n",
    "        for batch_features, batch_labels in helper.load_preprocess_training_batch(batch_i, batch_size):\n",
    "            train_neural_network(sess, optimizer, keep_probability, batch_features, batch_labels)\n",
    "        print('Epoch {:>2}, CIFAR-10 Batch {}:  '.format(epoch + 1, batch_i), end='')\n",
    "        print_stats(sess, batch_features, batch_labels, cost, accuracy)"
   ]
  },
  {
   "cell_type": "markdown",
   "metadata": {},
   "source": [
    "### Fully Train the Model\n",
    "Now that you got a good accuracy with a single CIFAR-10 batch, try it with all five batches."
   ]
  },
  {
   "cell_type": "code",
   "execution_count": 22,
   "metadata": {
    "collapsed": false
   },
   "outputs": [
    {
     "name": "stdout",
     "output_type": "stream",
     "text": [
      "Training...\n",
      "Epoch  1, CIFAR-10 Batch 1:  Loss:     2.2803 Validation Accuracy: 0.105600\n",
      "Epoch  1, CIFAR-10 Batch 2:  Loss:     2.1374 Validation Accuracy: 0.251800\n",
      "Epoch  1, CIFAR-10 Batch 3:  Loss:     1.8312 Validation Accuracy: 0.260800\n",
      "Epoch  1, CIFAR-10 Batch 4:  Loss:     1.7914 Validation Accuracy: 0.307200\n",
      "Epoch  1, CIFAR-10 Batch 5:  Loss:     2.0035 Validation Accuracy: 0.353000\n",
      "Epoch  2, CIFAR-10 Batch 1:  Loss:     1.8569 Validation Accuracy: 0.368400\n",
      "Epoch  2, CIFAR-10 Batch 2:  Loss:     1.7725 Validation Accuracy: 0.398000\n",
      "Epoch  2, CIFAR-10 Batch 3:  Loss:     1.4758 Validation Accuracy: 0.393800\n",
      "Epoch  2, CIFAR-10 Batch 4:  Loss:     1.6228 Validation Accuracy: 0.406200\n",
      "Epoch  2, CIFAR-10 Batch 5:  Loss:     1.8327 Validation Accuracy: 0.420800\n",
      "Epoch  3, CIFAR-10 Batch 1:  Loss:     1.7448 Validation Accuracy: 0.438400\n",
      "Epoch  3, CIFAR-10 Batch 2:  Loss:     1.6151 Validation Accuracy: 0.445800\n",
      "Epoch  3, CIFAR-10 Batch 3:  Loss:     1.2649 Validation Accuracy: 0.448600\n",
      "Epoch  3, CIFAR-10 Batch 4:  Loss:     1.4567 Validation Accuracy: 0.448800\n",
      "Epoch  3, CIFAR-10 Batch 5:  Loss:     1.6892 Validation Accuracy: 0.460400\n",
      "Epoch  4, CIFAR-10 Batch 1:  Loss:     1.7202 Validation Accuracy: 0.469000\n",
      "Epoch  4, CIFAR-10 Batch 2:  Loss:     1.5903 Validation Accuracy: 0.475200\n",
      "Epoch  4, CIFAR-10 Batch 3:  Loss:     1.1619 Validation Accuracy: 0.481600\n",
      "Epoch  4, CIFAR-10 Batch 4:  Loss:     1.3898 Validation Accuracy: 0.470800\n",
      "Epoch  4, CIFAR-10 Batch 5:  Loss:     1.5682 Validation Accuracy: 0.483000\n",
      "Epoch  5, CIFAR-10 Batch 1:  Loss:     1.6509 Validation Accuracy: 0.483400\n",
      "Epoch  5, CIFAR-10 Batch 2:  Loss:     1.4611 Validation Accuracy: 0.497000\n",
      "Epoch  5, CIFAR-10 Batch 3:  Loss:     1.0634 Validation Accuracy: 0.496600\n",
      "Epoch  5, CIFAR-10 Batch 4:  Loss:     1.3326 Validation Accuracy: 0.488000\n",
      "Epoch  5, CIFAR-10 Batch 5:  Loss:     1.5407 Validation Accuracy: 0.495400\n",
      "Epoch  6, CIFAR-10 Batch 1:  Loss:     1.4925 Validation Accuracy: 0.502200\n",
      "Epoch  6, CIFAR-10 Batch 2:  Loss:     1.4009 Validation Accuracy: 0.501400\n",
      "Epoch  6, CIFAR-10 Batch 3:  Loss:     0.9591 Validation Accuracy: 0.512200\n",
      "Epoch  6, CIFAR-10 Batch 4:  Loss:     1.2855 Validation Accuracy: 0.507000\n",
      "Epoch  6, CIFAR-10 Batch 5:  Loss:     1.5087 Validation Accuracy: 0.501000\n",
      "Epoch  7, CIFAR-10 Batch 1:  Loss:     1.4319 Validation Accuracy: 0.519800\n",
      "Epoch  7, CIFAR-10 Batch 2:  Loss:     1.3570 Validation Accuracy: 0.519200\n",
      "Epoch  7, CIFAR-10 Batch 3:  Loss:     0.9196 Validation Accuracy: 0.526400\n",
      "Epoch  7, CIFAR-10 Batch 4:  Loss:     1.2101 Validation Accuracy: 0.507800\n",
      "Epoch  7, CIFAR-10 Batch 5:  Loss:     1.4656 Validation Accuracy: 0.514400\n",
      "Epoch  8, CIFAR-10 Batch 1:  Loss:     1.3950 Validation Accuracy: 0.523600\n",
      "Epoch  8, CIFAR-10 Batch 2:  Loss:     1.3059 Validation Accuracy: 0.529800\n",
      "Epoch  8, CIFAR-10 Batch 3:  Loss:     0.8610 Validation Accuracy: 0.535000\n",
      "Epoch  8, CIFAR-10 Batch 4:  Loss:     1.1769 Validation Accuracy: 0.515600\n",
      "Epoch  8, CIFAR-10 Batch 5:  Loss:     1.4511 Validation Accuracy: 0.519400\n",
      "Epoch  9, CIFAR-10 Batch 1:  Loss:     1.4113 Validation Accuracy: 0.540600\n",
      "Epoch  9, CIFAR-10 Batch 2:  Loss:     1.2555 Validation Accuracy: 0.520200\n",
      "Epoch  9, CIFAR-10 Batch 3:  Loss:     0.8553 Validation Accuracy: 0.538600\n",
      "Epoch  9, CIFAR-10 Batch 4:  Loss:     1.1106 Validation Accuracy: 0.529800\n",
      "Epoch  9, CIFAR-10 Batch 5:  Loss:     1.3723 Validation Accuracy: 0.536200\n",
      "Epoch 10, CIFAR-10 Batch 1:  Loss:     1.3317 Validation Accuracy: 0.539200\n",
      "Epoch 10, CIFAR-10 Batch 2:  Loss:     1.2410 Validation Accuracy: 0.542000\n",
      "Epoch 10, CIFAR-10 Batch 3:  Loss:     0.8144 Validation Accuracy: 0.540400\n",
      "Epoch 10, CIFAR-10 Batch 4:  Loss:     1.1049 Validation Accuracy: 0.524000\n",
      "Epoch 10, CIFAR-10 Batch 5:  Loss:     1.3212 Validation Accuracy: 0.541200\n",
      "Epoch 11, CIFAR-10 Batch 1:  Loss:     1.3200 Validation Accuracy: 0.542600\n",
      "Epoch 11, CIFAR-10 Batch 2:  Loss:     1.2539 Validation Accuracy: 0.542600\n",
      "Epoch 11, CIFAR-10 Batch 3:  Loss:     0.8279 Validation Accuracy: 0.554400\n",
      "Epoch 11, CIFAR-10 Batch 4:  Loss:     1.0980 Validation Accuracy: 0.523400\n",
      "Epoch 11, CIFAR-10 Batch 5:  Loss:     1.3078 Validation Accuracy: 0.547400\n",
      "Epoch 12, CIFAR-10 Batch 1:  Loss:     1.3174 Validation Accuracy: 0.551800\n",
      "Epoch 12, CIFAR-10 Batch 2:  Loss:     1.2389 Validation Accuracy: 0.548800\n",
      "Epoch 12, CIFAR-10 Batch 3:  Loss:     0.7979 Validation Accuracy: 0.555000\n",
      "Epoch 12, CIFAR-10 Batch 4:  Loss:     1.0468 Validation Accuracy: 0.550200\n",
      "Epoch 12, CIFAR-10 Batch 5:  Loss:     1.2581 Validation Accuracy: 0.556200\n",
      "Epoch 13, CIFAR-10 Batch 1:  Loss:     1.2587 Validation Accuracy: 0.559800\n",
      "Epoch 13, CIFAR-10 Batch 2:  Loss:     1.1652 Validation Accuracy: 0.552600\n",
      "Epoch 13, CIFAR-10 Batch 3:  Loss:     0.8551 Validation Accuracy: 0.553600\n",
      "Epoch 13, CIFAR-10 Batch 4:  Loss:     1.0310 Validation Accuracy: 0.547600\n",
      "Epoch 13, CIFAR-10 Batch 5:  Loss:     1.2293 Validation Accuracy: 0.551600\n",
      "Epoch 14, CIFAR-10 Batch 1:  Loss:     1.2525 Validation Accuracy: 0.557000\n",
      "Epoch 14, CIFAR-10 Batch 2:  Loss:     1.2551 Validation Accuracy: 0.555000\n",
      "Epoch 14, CIFAR-10 Batch 3:  Loss:     0.8002 Validation Accuracy: 0.559800\n",
      "Epoch 14, CIFAR-10 Batch 4:  Loss:     1.0067 Validation Accuracy: 0.551600\n",
      "Epoch 14, CIFAR-10 Batch 5:  Loss:     1.2339 Validation Accuracy: 0.556800\n",
      "Epoch 15, CIFAR-10 Batch 1:  Loss:     1.2736 Validation Accuracy: 0.560600\n",
      "Epoch 15, CIFAR-10 Batch 2:  Loss:     1.1540 Validation Accuracy: 0.550600\n",
      "Epoch 15, CIFAR-10 Batch 3:  Loss:     0.8309 Validation Accuracy: 0.562800\n",
      "Epoch 15, CIFAR-10 Batch 4:  Loss:     1.0149 Validation Accuracy: 0.556200\n",
      "Epoch 15, CIFAR-10 Batch 5:  Loss:     1.1623 Validation Accuracy: 0.566600\n",
      "Epoch 16, CIFAR-10 Batch 1:  Loss:     1.2206 Validation Accuracy: 0.563400\n",
      "Epoch 16, CIFAR-10 Batch 2:  Loss:     1.1457 Validation Accuracy: 0.568400\n",
      "Epoch 16, CIFAR-10 Batch 3:  Loss:     0.8242 Validation Accuracy: 0.562200\n",
      "Epoch 16, CIFAR-10 Batch 4:  Loss:     0.9825 Validation Accuracy: 0.562400\n",
      "Epoch 16, CIFAR-10 Batch 5:  Loss:     1.0825 Validation Accuracy: 0.568400\n",
      "Epoch 17, CIFAR-10 Batch 1:  Loss:     1.2146 Validation Accuracy: 0.561000\n",
      "Epoch 17, CIFAR-10 Batch 2:  Loss:     1.1622 Validation Accuracy: 0.570400\n",
      "Epoch 17, CIFAR-10 Batch 3:  Loss:     0.7834 Validation Accuracy: 0.561800\n",
      "Epoch 17, CIFAR-10 Batch 4:  Loss:     0.9181 Validation Accuracy: 0.572200\n",
      "Epoch 17, CIFAR-10 Batch 5:  Loss:     1.1350 Validation Accuracy: 0.569800\n",
      "Epoch 18, CIFAR-10 Batch 1:  Loss:     1.2064 Validation Accuracy: 0.574000\n",
      "Epoch 18, CIFAR-10 Batch 2:  Loss:     1.1058 Validation Accuracy: 0.565200\n",
      "Epoch 18, CIFAR-10 Batch 3:  Loss:     0.8216 Validation Accuracy: 0.577800\n",
      "Epoch 18, CIFAR-10 Batch 4:  Loss:     0.9654 Validation Accuracy: 0.568600\n",
      "Epoch 18, CIFAR-10 Batch 5:  Loss:     1.0532 Validation Accuracy: 0.562600\n",
      "Epoch 19, CIFAR-10 Batch 1:  Loss:     1.1888 Validation Accuracy: 0.580000\n",
      "Epoch 19, CIFAR-10 Batch 2:  Loss:     1.1066 Validation Accuracy: 0.557400\n",
      "Epoch 19, CIFAR-10 Batch 3:  Loss:     0.8681 Validation Accuracy: 0.573000\n",
      "Epoch 19, CIFAR-10 Batch 4:  Loss:     0.9261 Validation Accuracy: 0.572000\n",
      "Epoch 19, CIFAR-10 Batch 5:  Loss:     1.0904 Validation Accuracy: 0.575200\n",
      "Epoch 20, CIFAR-10 Batch 1:  Loss:     1.1955 Validation Accuracy: 0.581800\n",
      "Epoch 20, CIFAR-10 Batch 2:  Loss:     1.0622 Validation Accuracy: 0.565400\n",
      "Epoch 20, CIFAR-10 Batch 3:  Loss:     0.8120 Validation Accuracy: 0.571400\n",
      "Epoch 20, CIFAR-10 Batch 4:  Loss:     0.9083 Validation Accuracy: 0.574200\n",
      "Epoch 20, CIFAR-10 Batch 5:  Loss:     1.0265 Validation Accuracy: 0.572800\n",
      "Epoch 21, CIFAR-10 Batch 1:  Loss:     1.1041 Validation Accuracy: 0.577000\n",
      "Epoch 21, CIFAR-10 Batch 2:  Loss:     1.0721 Validation Accuracy: 0.570200\n",
      "Epoch 21, CIFAR-10 Batch 3:  Loss:     0.7908 Validation Accuracy: 0.577200\n",
      "Epoch 21, CIFAR-10 Batch 4:  Loss:     0.8919 Validation Accuracy: 0.569600\n",
      "Epoch 21, CIFAR-10 Batch 5:  Loss:     1.0278 Validation Accuracy: 0.572400\n",
      "Epoch 22, CIFAR-10 Batch 1:  Loss:     1.1992 Validation Accuracy: 0.577000\n",
      "Epoch 22, CIFAR-10 Batch 2:  Loss:     1.1037 Validation Accuracy: 0.567400\n",
      "Epoch 22, CIFAR-10 Batch 3:  Loss:     0.8148 Validation Accuracy: 0.570000\n",
      "Epoch 22, CIFAR-10 Batch 4:  Loss:     0.9057 Validation Accuracy: 0.569200\n",
      "Epoch 22, CIFAR-10 Batch 5:  Loss:     1.0373 Validation Accuracy: 0.561800\n",
      "Epoch 23, CIFAR-10 Batch 1:  Loss:     1.1641 Validation Accuracy: 0.578400\n",
      "Epoch 23, CIFAR-10 Batch 2:  Loss:     1.0768 Validation Accuracy: 0.558000\n",
      "Epoch 23, CIFAR-10 Batch 3:  Loss:     0.7704 Validation Accuracy: 0.582400\n",
      "Epoch 23, CIFAR-10 Batch 4:  Loss:     0.9000 Validation Accuracy: 0.578000\n",
      "Epoch 23, CIFAR-10 Batch 5:  Loss:     0.9910 Validation Accuracy: 0.577800\n",
      "Epoch 24, CIFAR-10 Batch 1:  Loss:     1.1039 Validation Accuracy: 0.584600\n",
      "Epoch 24, CIFAR-10 Batch 2:  Loss:     1.0649 Validation Accuracy: 0.562200\n",
      "Epoch 24, CIFAR-10 Batch 3:  Loss:     0.7944 Validation Accuracy: 0.576000\n",
      "Epoch 24, CIFAR-10 Batch 4:  Loss:     0.9017 Validation Accuracy: 0.572600\n",
      "Epoch 24, CIFAR-10 Batch 5:  Loss:     0.9725 Validation Accuracy: 0.578800\n",
      "Epoch 25, CIFAR-10 Batch 1:  Loss:     1.1379 Validation Accuracy: 0.585200\n",
      "Epoch 25, CIFAR-10 Batch 2:  Loss:     1.0560 Validation Accuracy: 0.583400\n",
      "Epoch 25, CIFAR-10 Batch 3:  Loss:     0.7796 Validation Accuracy: 0.582800\n",
      "Epoch 25, CIFAR-10 Batch 4:  Loss:     0.8660 Validation Accuracy: 0.582400\n",
      "Epoch 25, CIFAR-10 Batch 5:  Loss:     0.9558 Validation Accuracy: 0.566800\n",
      "Epoch 26, CIFAR-10 Batch 1:  Loss:     1.0472 Validation Accuracy: 0.584000\n",
      "Epoch 26, CIFAR-10 Batch 2:  Loss:     1.0918 Validation Accuracy: 0.574400\n",
      "Epoch 26, CIFAR-10 Batch 3:  Loss:     0.7165 Validation Accuracy: 0.582200\n",
      "Epoch 26, CIFAR-10 Batch 4:  Loss:     0.8586 Validation Accuracy: 0.578800\n",
      "Epoch 26, CIFAR-10 Batch 5:  Loss:     0.9244 Validation Accuracy: 0.587600\n",
      "Epoch 27, CIFAR-10 Batch 1:  Loss:     1.0128 Validation Accuracy: 0.589000\n",
      "Epoch 27, CIFAR-10 Batch 2:  Loss:     0.9474 Validation Accuracy: 0.564400\n",
      "Epoch 27, CIFAR-10 Batch 3:  Loss:     0.7734 Validation Accuracy: 0.583800\n",
      "Epoch 27, CIFAR-10 Batch 4:  Loss:     0.8581 Validation Accuracy: 0.587000\n",
      "Epoch 27, CIFAR-10 Batch 5:  Loss:     0.9455 Validation Accuracy: 0.578200\n",
      "Epoch 28, CIFAR-10 Batch 1:  Loss:     1.0403 Validation Accuracy: 0.591000\n",
      "Epoch 28, CIFAR-10 Batch 2:  Loss:     0.9470 Validation Accuracy: 0.555400\n",
      "Epoch 28, CIFAR-10 Batch 3:  Loss:     0.7808 Validation Accuracy: 0.579400\n",
      "Epoch 28, CIFAR-10 Batch 4:  Loss:     0.8404 Validation Accuracy: 0.580400\n",
      "Epoch 28, CIFAR-10 Batch 5:  Loss:     0.8939 Validation Accuracy: 0.592600\n",
      "Epoch 29, CIFAR-10 Batch 1:  Loss:     0.9941 Validation Accuracy: 0.591000\n",
      "Epoch 29, CIFAR-10 Batch 2:  Loss:     0.9586 Validation Accuracy: 0.571200\n",
      "Epoch 29, CIFAR-10 Batch 3:  Loss:     0.7366 Validation Accuracy: 0.586000\n",
      "Epoch 29, CIFAR-10 Batch 4:  Loss:     0.8236 Validation Accuracy: 0.592200\n",
      "Epoch 29, CIFAR-10 Batch 5:  Loss:     0.8647 Validation Accuracy: 0.578800\n",
      "Epoch 30, CIFAR-10 Batch 1:  Loss:     1.0304 Validation Accuracy: 0.587400\n",
      "Epoch 30, CIFAR-10 Batch 2:  Loss:     0.9964 Validation Accuracy: 0.576000\n",
      "Epoch 30, CIFAR-10 Batch 3:  Loss:     0.7725 Validation Accuracy: 0.587400\n",
      "Epoch 30, CIFAR-10 Batch 4:  Loss:     0.8506 Validation Accuracy: 0.586600\n",
      "Epoch 30, CIFAR-10 Batch 5:  Loss:     0.9064 Validation Accuracy: 0.585200\n",
      "Epoch 31, CIFAR-10 Batch 1:  Loss:     1.0012 Validation Accuracy: 0.595800\n",
      "Epoch 31, CIFAR-10 Batch 2:  Loss:     0.9468 Validation Accuracy: 0.580400\n",
      "Epoch 31, CIFAR-10 Batch 3:  Loss:     0.7032 Validation Accuracy: 0.594400\n",
      "Epoch 31, CIFAR-10 Batch 4:  Loss:     0.8737 Validation Accuracy: 0.584600\n",
      "Epoch 31, CIFAR-10 Batch 5:  Loss:     0.9599 Validation Accuracy: 0.573200\n",
      "Epoch 32, CIFAR-10 Batch 1:  Loss:     0.9908 Validation Accuracy: 0.589200\n",
      "Epoch 32, CIFAR-10 Batch 2:  Loss:     0.9913 Validation Accuracy: 0.585400\n",
      "Epoch 32, CIFAR-10 Batch 3:  Loss:     0.7545 Validation Accuracy: 0.582000\n",
      "Epoch 32, CIFAR-10 Batch 4:  Loss:     0.8856 Validation Accuracy: 0.588200\n",
      "Epoch 32, CIFAR-10 Batch 5:  Loss:     0.8665 Validation Accuracy: 0.578200\n",
      "Epoch 33, CIFAR-10 Batch 1:  Loss:     0.9637 Validation Accuracy: 0.595200\n",
      "Epoch 33, CIFAR-10 Batch 2:  Loss:     0.9695 Validation Accuracy: 0.587600\n",
      "Epoch 33, CIFAR-10 Batch 3:  Loss:     0.7608 Validation Accuracy: 0.590800\n",
      "Epoch 33, CIFAR-10 Batch 4:  Loss:     0.8205 Validation Accuracy: 0.592000\n",
      "Epoch 33, CIFAR-10 Batch 5:  Loss:     0.8495 Validation Accuracy: 0.590600\n",
      "Epoch 34, CIFAR-10 Batch 1:  Loss:     0.9057 Validation Accuracy: 0.597800\n",
      "Epoch 34, CIFAR-10 Batch 2:  Loss:     1.0222 Validation Accuracy: 0.586600\n",
      "Epoch 34, CIFAR-10 Batch 3:  Loss:     0.7158 Validation Accuracy: 0.588200\n",
      "Epoch 34, CIFAR-10 Batch 4:  Loss:     0.8336 Validation Accuracy: 0.597800\n",
      "Epoch 34, CIFAR-10 Batch 5:  Loss:     0.8779 Validation Accuracy: 0.588000\n",
      "Epoch 35, CIFAR-10 Batch 1:  Loss:     0.9841 Validation Accuracy: 0.597000\n",
      "Epoch 35, CIFAR-10 Batch 2:  Loss:     1.0469 Validation Accuracy: 0.592200\n",
      "Epoch 35, CIFAR-10 Batch 3:  Loss:     0.7250 Validation Accuracy: 0.593600\n",
      "Epoch 35, CIFAR-10 Batch 4:  Loss:     0.8449 Validation Accuracy: 0.585000\n",
      "Epoch 35, CIFAR-10 Batch 5:  Loss:     0.8538 Validation Accuracy: 0.588200\n",
      "Epoch 36, CIFAR-10 Batch 1:  Loss:     0.9868 Validation Accuracy: 0.590400\n",
      "Epoch 36, CIFAR-10 Batch 2:  Loss:     1.0242 Validation Accuracy: 0.588200\n",
      "Epoch 36, CIFAR-10 Batch 3:  Loss:     0.7318 Validation Accuracy: 0.594600\n",
      "Epoch 36, CIFAR-10 Batch 4:  Loss:     0.8234 Validation Accuracy: 0.598400\n",
      "Epoch 36, CIFAR-10 Batch 5:  Loss:     0.8326 Validation Accuracy: 0.586400\n",
      "Epoch 37, CIFAR-10 Batch 1:  Loss:     0.9825 Validation Accuracy: 0.603800\n",
      "Epoch 37, CIFAR-10 Batch 2:  Loss:     0.9688 Validation Accuracy: 0.593200\n",
      "Epoch 37, CIFAR-10 Batch 3:  Loss:     0.7130 Validation Accuracy: 0.581600\n",
      "Epoch 37, CIFAR-10 Batch 4:  Loss:     0.8250 Validation Accuracy: 0.593200\n",
      "Epoch 37, CIFAR-10 Batch 5:  Loss:     0.8290 Validation Accuracy: 0.588400\n",
      "Epoch 38, CIFAR-10 Batch 1:  Loss:     0.9573 Validation Accuracy: 0.597000\n",
      "Epoch 38, CIFAR-10 Batch 2:  Loss:     1.0005 Validation Accuracy: 0.588400\n",
      "Epoch 38, CIFAR-10 Batch 3:  Loss:     0.7360 Validation Accuracy: 0.595800\n",
      "Epoch 38, CIFAR-10 Batch 4:  Loss:     0.8159 Validation Accuracy: 0.590000\n",
      "Epoch 38, CIFAR-10 Batch 5:  Loss:     0.8268 Validation Accuracy: 0.594400\n",
      "Epoch 39, CIFAR-10 Batch 1:  Loss:     0.9059 Validation Accuracy: 0.592600\n",
      "Epoch 39, CIFAR-10 Batch 2:  Loss:     0.9515 Validation Accuracy: 0.591000\n",
      "Epoch 39, CIFAR-10 Batch 3:  Loss:     0.7042 Validation Accuracy: 0.583000\n",
      "Epoch 39, CIFAR-10 Batch 4:  Loss:     0.8334 Validation Accuracy: 0.593400\n",
      "Epoch 39, CIFAR-10 Batch 5:  Loss:     0.9171 Validation Accuracy: 0.580600\n",
      "Epoch 40, CIFAR-10 Batch 1:  Loss:     1.0027 Validation Accuracy: 0.600800\n",
      "Epoch 40, CIFAR-10 Batch 2:  Loss:     0.9858 Validation Accuracy: 0.596200\n",
      "Epoch 40, CIFAR-10 Batch 3:  Loss:     0.7258 Validation Accuracy: 0.591600\n",
      "Epoch 40, CIFAR-10 Batch 4:  Loss:     0.7848 Validation Accuracy: 0.600600\n",
      "Epoch 40, CIFAR-10 Batch 5:  Loss:     0.8074 Validation Accuracy: 0.591200\n",
      "Epoch 41, CIFAR-10 Batch 1:  Loss:     0.9317 Validation Accuracy: 0.603000\n",
      "Epoch 41, CIFAR-10 Batch 2:  Loss:     0.9608 Validation Accuracy: 0.588800\n",
      "Epoch 41, CIFAR-10 Batch 3:  Loss:     0.7156 Validation Accuracy: 0.577600\n",
      "Epoch 41, CIFAR-10 Batch 4:  Loss:     0.7830 Validation Accuracy: 0.592800\n",
      "Epoch 41, CIFAR-10 Batch 5:  Loss:     0.7973 Validation Accuracy: 0.585600\n",
      "Epoch 42, CIFAR-10 Batch 1:  Loss:     0.9442 Validation Accuracy: 0.600400\n",
      "Epoch 42, CIFAR-10 Batch 2:  Loss:     0.8988 Validation Accuracy: 0.597400\n",
      "Epoch 42, CIFAR-10 Batch 3:  Loss:     0.6873 Validation Accuracy: 0.581200\n",
      "Epoch 42, CIFAR-10 Batch 4:  Loss:     0.7772 Validation Accuracy: 0.592800\n",
      "Epoch 42, CIFAR-10 Batch 5:  Loss:     0.7785 Validation Accuracy: 0.592400\n",
      "Epoch 43, CIFAR-10 Batch 1:  Loss:     0.9054 Validation Accuracy: 0.599200\n",
      "Epoch 43, CIFAR-10 Batch 2:  Loss:     0.9713 Validation Accuracy: 0.594800\n",
      "Epoch 43, CIFAR-10 Batch 3:  Loss:     0.7311 Validation Accuracy: 0.596200\n",
      "Epoch 43, CIFAR-10 Batch 4:  Loss:     0.8357 Validation Accuracy: 0.598200\n",
      "Epoch 43, CIFAR-10 Batch 5:  Loss:     0.7882 Validation Accuracy: 0.588400\n",
      "Epoch 44, CIFAR-10 Batch 1:  Loss:     0.9444 Validation Accuracy: 0.593400\n",
      "Epoch 44, CIFAR-10 Batch 2:  Loss:     0.9706 Validation Accuracy: 0.589400\n",
      "Epoch 44, CIFAR-10 Batch 3:  Loss:     0.6640 Validation Accuracy: 0.588400\n",
      "Epoch 44, CIFAR-10 Batch 4:  Loss:     0.7512 Validation Accuracy: 0.598600\n",
      "Epoch 44, CIFAR-10 Batch 5:  Loss:     0.7566 Validation Accuracy: 0.594000\n",
      "Epoch 45, CIFAR-10 Batch 1:  Loss:     0.9405 Validation Accuracy: 0.598000\n",
      "Epoch 45, CIFAR-10 Batch 2:  Loss:     0.9950 Validation Accuracy: 0.597400\n",
      "Epoch 45, CIFAR-10 Batch 3:  Loss:     0.7022 Validation Accuracy: 0.591800\n",
      "Epoch 45, CIFAR-10 Batch 4:  Loss:     0.7688 Validation Accuracy: 0.600800\n",
      "Epoch 45, CIFAR-10 Batch 5:  Loss:     0.7377 Validation Accuracy: 0.593000\n"
     ]
    }
   ],
   "source": [
    "\"\"\"\n",
    "DON'T MODIFY ANYTHING IN THIS CELL\n",
    "\"\"\"\n",
    "save_model_path = './image_classification'\n",
    "\n",
    "print('Training...')\n",
    "with tf.Session() as sess:\n",
    "    # Initializing the variables\n",
    "    sess.run(tf.global_variables_initializer())\n",
    "    \n",
    "    # Training cycle\n",
    "    for epoch in range(epochs):\n",
    "        # Loop over all batches\n",
    "        n_batches = 5\n",
    "        for batch_i in range(1, n_batches + 1):\n",
    "            for batch_features, batch_labels in helper.load_preprocess_training_batch(batch_i, batch_size):\n",
    "                train_neural_network(sess, optimizer, keep_probability, batch_features, batch_labels)\n",
    "            print('Epoch {:>2}, CIFAR-10 Batch {}:  '.format(epoch + 1, batch_i), end='')\n",
    "            print_stats(sess, batch_features, batch_labels, cost, accuracy)\n",
    "            \n",
    "    # Save Model\n",
    "    saver = tf.train.Saver()\n",
    "    save_path = saver.save(sess, save_model_path)"
   ]
  },
  {
   "cell_type": "markdown",
   "metadata": {},
   "source": [
    "# Checkpoint\n",
    "The model has been saved to disk.\n",
    "## Test Model\n",
    "Test your model against the test dataset.  This will be your final accuracy. You should have an accuracy greater than 50%. If you don't, keep tweaking the model architecture and parameters."
   ]
  },
  {
   "cell_type": "code",
   "execution_count": 23,
   "metadata": {
    "collapsed": false
   },
   "outputs": [
    {
     "name": "stdout",
     "output_type": "stream",
     "text": [
      "Testing Accuracy: 0.59484474522293\n",
      "\n"
     ]
    },
    {
     "data": {
      "image/png": "[encoded data removed]",
      "text/plain": [
       "<matplotlib.figure.Figure at 0x247be938f60>"
      ]
     },
     "metadata": {
      "image/png": {
       "height": 319,
       "width": 355
      }
     },
     "output_type": "display_data"
    }
   ],
   "source": [
    "\"\"\"\n",
    "DON'T MODIFY ANYTHING IN THIS CELL\n",
    "\"\"\"\n",
    "%matplotlib inline\n",
    "%config InlineBackend.figure_format = 'retina'\n",
    "\n",
    "import tensorflow as tf\n",
    "import pickle\n",
    "import helper\n",
    "import random\n",
    "\n",
    "# Set batch size if not already set\n",
    "try:\n",
    "    if batch_size:\n",
    "        pass\n",
    "except NameError:\n",
    "    batch_size = 64\n",
    "\n",
    "save_model_path = './image_classification'\n",
    "n_samples = 4\n",
    "top_n_predictions = 3\n",
    "\n",
    "def test_model():\n",
    "    \"\"\"\n",
    "    Test the saved model against the test dataset\n",
    "    \"\"\"\n",
    "\n",
    "    test_features, test_labels = pickle.load(open('preprocess_training.p', mode='rb'))\n",
    "    loaded_graph = tf.Graph()\n",
    "\n",
    "    with tf.Session(graph=loaded_graph) as sess:\n",
    "        # Load model\n",
    "        loader = tf.train.import_meta_graph(save_model_path + '.meta')\n",
    "        loader.restore(sess, save_model_path)\n",
    "\n",
    "        # Get Tensors from loaded model\n",
    "        loaded_x = loaded_graph.get_tensor_by_name('x:0')\n",
    "        loaded_y = loaded_graph.get_tensor_by_name('y:0')\n",
    "        loaded_keep_prob = loaded_graph.get_tensor_by_name('keep_prob:0')\n",
    "        loaded_logits = loaded_graph.get_tensor_by_name('logits:0')\n",
    "        loaded_acc = loaded_graph.get_tensor_by_name('accuracy:0')\n",
    "        \n",
    "        # Get accuracy in batches for memory limitations\n",
    "        test_batch_acc_total = 0\n",
    "        test_batch_count = 0\n",
    "        \n",
    "        for train_feature_batch, train_label_batch in helper.batch_features_labels(test_features, test_labels, batch_size):\n",
    "            test_batch_acc_total += sess.run(\n",
    "                loaded_acc,\n",
    "                feed_dict={loaded_x: train_feature_batch, loaded_y: train_label_batch, loaded_keep_prob: 1.0})\n",
    "            test_batch_count += 1\n",
    "\n",
    "        print('Testing Accuracy: {}\\n'.format(test_batch_acc_total/test_batch_count))\n",
    "\n",
    "        # Print Random Samples\n",
    "        random_test_features, random_test_labels = tuple(zip(*random.sample(list(zip(test_features, test_labels)), n_samples)))\n",
    "        random_test_predictions = sess.run(\n",
    "            tf.nn.top_k(tf.nn.softmax(loaded_logits), top_n_predictions),\n",
    "            feed_dict={loaded_x: random_test_features, loaded_y: random_test_labels, loaded_keep_prob: 1.0})\n",
    "        helper.display_image_predictions(random_test_features, random_test_labels, random_test_predictions)\n",
    "\n",
    "\n",
    "test_model()"
   ]
  },
  {
   "cell_type": "markdown",
   "metadata": {},
   "source": [
    "## Why 50-70% Accuracy?\n",
    "You might be wondering why you can't get an accuracy any higher. First things first, 50% isn't bad for a simple CNN.  Pure guessing would get you 10% accuracy. However, you might notice people are getting scores [well above 70%](http://rodrigob.github.io/are_we_there_yet/build/classification_datasets_results.html#43494641522d3130).  That's because we haven't taught you all there is to know about neural networks. We still need to cover a few more techniques.\n",
    "## Submitting This Project\n",
    "When submitting this project, make sure to run all the cells before saving the notebook.  Save the notebook file as \"dlnd_image_classification.ipynb\" and save it as a HTML file under \"File\" -> \"Download as\".  Include the \"helper.py\" and \"problem_unittests.py\" files in your submission."
   ]
  }
 ],
 "metadata": {
  "kernelspec": {
   "display_name": "Python [conda env:tensorflow]",
   "language": "python",
   "name": "conda-env-tensorflow-py"
  },
  "language_info": {
   "codemirror_mode": {
    "name": "ipython",
    "version": 3
   },
   "file_extension": ".py",
   "mimetype": "text/x-python",
   "name": "python",
   "nbconvert_exporter": "python",
   "pygments_lexer": "ipython3",
   "version": "3.5.3"
  }
 },
 "nbformat": 4,
 "nbformat_minor": 0
}
